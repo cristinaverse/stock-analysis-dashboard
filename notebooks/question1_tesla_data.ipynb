{
  "nbformat": 4,
  "nbformat_minor": 0,
  "metadata": {
    "colab": {
      "provenance": [],
      "authorship_tag": "ABX9TyNSkt3ygU/i+Tqk6/Ygikmz"
    },
    "kernelspec": {
      "name": "python3",
      "display_name": "Python 3"
    },
    "language_info": {
      "name": "python"
    }
  },
  "cells": [
    {
      "cell_type": "code",
      "source": [
        "import yfinance as yf\n",
        "import pandas as pd\n",
        "import requests\n",
        "from bs4 import BeautifulSoup\n",
        "import plotly.graph_objects as go\n",
        "from plotly.subplots import make_subplots\n",
        "\n",
        "# Question 1: Tesla Stock Data Extraction\n",
        "def extract_tesla_stock_data():\n",
        "    \"\"\"Extract historical stock data for Tesla\"\"\"\n",
        "    tesla = yf.Ticker(\"TSLA\")\n",
        "    tesla_data = tesla.history(period=\"max\")\n",
        "    tesla_data.reset_index(inplace=True)\n",
        "    print(\"Tesla Stock Data - First 5 rows:\")\n",
        "    print(tesla_data.head())\n",
        "    return tesla_data\n",
        "\n",
        "tesla_data = extract_tesla_stock_data()\n"
      ],
      "metadata": {
        "colab": {
          "base_uri": "https://localhost:8080/"
        },
        "id": "8fRToLgkw2Zx",
        "outputId": "4ac40b3e-8cd6-4a00-e7d4-b80a5c535af4"
      },
      "execution_count": 23,
      "outputs": [
        {
          "output_type": "stream",
          "name": "stdout",
          "text": [
            "Tesla Stock Data - First 5 rows:\n",
            "                       Date      Open      High       Low     Close  \\\n",
            "0 2010-06-29 00:00:00-04:00  1.266667  1.666667  1.169333  1.592667   \n",
            "1 2010-06-30 00:00:00-04:00  1.719333  2.028000  1.553333  1.588667   \n",
            "2 2010-07-01 00:00:00-04:00  1.666667  1.728000  1.351333  1.464000   \n",
            "3 2010-07-02 00:00:00-04:00  1.533333  1.540000  1.247333  1.280000   \n",
            "4 2010-07-06 00:00:00-04:00  1.333333  1.333333  1.055333  1.074000   \n",
            "\n",
            "      Volume  Dividends  Stock Splits  \n",
            "0  281494500        0.0           0.0  \n",
            "1  257806500        0.0           0.0  \n",
            "2  123282000        0.0           0.0  \n",
            "3   77097000        0.0           0.0  \n",
            "4  103003500        0.0           0.0  \n"
          ]
        }
      ]
    }
  ]
}
